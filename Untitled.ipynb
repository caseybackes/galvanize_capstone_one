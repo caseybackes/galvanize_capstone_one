{
 "cells": [
  {
   "cell_type": "code",
   "execution_count": 1,
   "metadata": {},
   "outputs": [
    {
     "name": "stdout",
     "output_type": "stream",
     "text": [
      "stacking dataframes....\n",
      "(Please be patient for ~ 30 seconds)\n",
      "...done!\n"
     ]
    },
    {
     "name": "stderr",
     "output_type": "stream",
     "text": [
      "/Users/casey/anaconda3/lib/python3.7/site-packages/ipykernel_launcher.py:72: UserWarning: Boolean Series key will be reindexed to match DataFrame index.\n",
      "/Users/casey/anaconda3/lib/python3.7/site-packages/ipykernel_launcher.py:75: UserWarning: Boolean Series key will be reindexed to match DataFrame index.\n"
     ]
    }
   ],
   "source": [
    "import numpy as np \n",
    "import pandas as pd\n",
    "import datetime as dt\n",
    "import matplotlib.pyplot as plt\n",
    "from os import listdir\n",
    "\n",
    "# DATA SOURCE\n",
    "# https://s3.amazonaws.com/capitalbikeshare-data/index.html\n",
    "\n",
    "\n",
    "def pd_csv_group(data_folder, first_few=3):\n",
    "    '''Returns a DataFrame built from all csv/txt files in a directory'''\n",
    "    files = listdir(data_folder)[0:first_few]\n",
    "    df_list = []\n",
    "    print(\"stacking dataframes....\")\n",
    "    print('(Please be patient for ~ 30 seconds)')\n",
    "    for file in listdir(data_folder):\n",
    "        f = pd.read_csv(data_folder+file)\n",
    "        df_list.append(f)\n",
    "    print('...done!')\n",
    "    return pd.concat(df_list, axis=0, ignore_index=True)\n",
    "\n",
    "def lifetime(duration):\n",
    "    '''Returns dict{days:days, hours:hours, minutes:minutes, seconds:seconds}'''\n",
    "    dct = {}\n",
    "    dct['days'] = duration//86400\n",
    "    dct['hours']= duration%86400//3600\n",
    "    dct['minutes'] = (duration%86400)%3600//60\n",
    "    dct['seconds'] = (duration%86400)%3600%60\n",
    "    return dct\n",
    "\n",
    "\n",
    "class BikeReport(object):\n",
    "    def __init__(self, df, bike_number):\n",
    "        self.bike_number = bike_number\n",
    "        self.duration = df[df['Bike number'] ==bike_number].agg({'Duration':'sum'}).Duration   \n",
    "        self.trips = df[df['Bike number'] ==bike_number].count()[0]\n",
    "\n",
    "    def __repr__(self):\n",
    "        return f'<BikeReport.obj>\\nBikeNumber:{self.bike_number}\\nLifetime:{self.duration}s\\nTrips:{self.trips}'\n",
    "\n",
    "    def lifetime(self):\n",
    "        dct = {}\n",
    "        dct['days'] = self.duration//86400\n",
    "        dct['hours']= self.duration%86400//3600\n",
    "        dct['minutes'] = (self.duration%86400)%3600//60\n",
    "        dct['seconds'] = (self.duration%86400)%3600%60\n",
    "        return dct\n",
    "\n",
    "\n",
    "#if __name__ == '__main__':\n",
    "# Define the folder containing only data files (csv or txt)\n",
    "data_folder = \"data/\"\n",
    "df = pd_csv_group(data_folder)\n",
    "\n",
    "# Which bikes (by bike number) have been used the most (by duration)?\n",
    "most_used_bikes_10 = df[['Bike number', 'Duration']].groupby('Bike number').agg(sum).sort_values(by='Duration', ascending = False)[:10]\n",
    "\n",
    "# most used bike and it's info\n",
    "br = BikeReport(df, most_used_bikes_10.iloc[0].name)\n",
    "\n",
    "# unique bike stations by name and station number\n",
    "stations = pd.concat((df['Start station'],df['End station']))\n",
    "\n",
    "# what are the most popular bike stations for starting a ride in the morning (4am-9am)?\n",
    "# (make a 'start time' column)\n",
    "# (after recasting the 'start date' to a datetime obj)  :/\n",
    "df['Start time'] =[x.time() for x in pd.to_datetime((df['Start date']))]     \n",
    "\n",
    "##  of rides the start in the morning (4am-9am)\n",
    "start_after4am = df[df['Start time'] > dt.time(4,0,0)] # mask applied to df with start times after 4am\n",
    "morning_rides = start_after4am[df['Start time'] < dt.time(9,0,0)] # mask applied to 4am starts for rides that end by 10am\n",
    "##  of rides the start in the afternoon (9am-3pm)\n",
    "start_after10am = df[df['Start time'] > dt.time(9,0,0)] # mask applied to df with start times after 10am\n",
    "afternoon_rides = start_after4am[df['Start time'] < dt.time(15,0,0)] # mask applied to 4am starts for rides that end by 3pm\n",
    "##  of rides the start in the evening (3pm>)\n",
    "evening_rides = df[df['Start time'] > dt.time(15,0,0)] # mask applied to df with start times after 3pm\n",
    "\n",
    "\n",
    "# - - - Gather data by top ten most popular stations during various times of day \n",
    "popular_morning_stations = morning_rides['Start station'].value_counts()[0:10]\n",
    "popular_afternoon_stations = afternoon_rides['Start station'].value_counts()[0:10]\n",
    "popular_evening_stations = evening_rides['Start station'].value_counts()[0:10]\n",
    "\n",
    "# - - - select a style\n",
    "plt.style.use('fivethirtyeight')\n",
    "fig,ax = plt.subplots(figsize=(20,10))\n",
    "\n",
    "# - - - define the data to plot\n",
    "layer1 = np.array(popular_morning_stations.values)\n",
    "layer2 = np.array(popular_afternoon_stations.values)\n",
    "layer3 = np.array(popular_evening_stations.values)\n",
    "labels = [item.replace(\"/\",\"\\n\", 1) for item in popular_morning_stations.index]\n",
    "\n",
    "# - - - build the bar plot\n",
    "width = 0.8\n",
    "xlocations = np.array(range(len(layer1)))\n",
    "# adding successive layers to create a stacked bar chart\n",
    "ax.bar(xlocations, layer3+layer2+layer1, width, label = 'Evening Rides', color = 'y', align = 'center')\n",
    "ax.bar(xlocations, layer2+layer1, width, label = 'Afternoon Rides', color = 'b', align = 'center')\n",
    "ax.bar(xlocations, layer1, width, label = 'Morning Rides', color = 'r', align = 'center')\n",
    "\n",
    "# - - - make it sexy\n",
    "ax.set_xticks(ticks=xlocations)\n",
    "ax.set_xticklabels(labels, rotation=0)\n",
    "for tick in ax.xaxis.get_major_ticks()[1::2]:\n",
    "    tick.set_pad(35)\n",
    "ax.set_xlabel(\"Station Name/Location\")\n",
    "ax.set_ylabel(\"Two-Year Ride Count\")\n",
    "ax.yaxis.grid(True)\n",
    "ax.legend(loc='best', prop={'size':'small'})\n",
    "ax.set_title(\"Top 10 Popular Bike Stations by Time of Day\")\n",
    "fig.tight_layout(pad=1)\n",
    "    \n"
   ]
  },
  {
   "cell_type": "code",
   "execution_count": 14,
   "metadata": {},
   "outputs": [],
   "source": [
    "# This has the information we want, and we we can build a dictionary for each station where the keys are the time(by hour)\n",
    "# and the values are the counts of rides for that hour for that station. \n",
    "\n",
    "# a dictionary for the most popular station's morning ride count by hour\n",
    "station_time_hist = dict()\n",
    "\n",
    "station_groups = df.groupby('Start station')\n",
    "\n",
    "\n",
    "time_steps = [str(x) for x in range(25)]\n",
    "\n",
    "def freq_dict(lst):\n",
    "    dct = dict()\n",
    "    for item in lst:\n",
    "        if item not in dct:\n",
    "            dct[item]=0\n",
    "        else:\n",
    "            dct[item]+=1\n",
    "    return dct\n",
    "\n",
    "\n",
    "def series_freq_dict(df, column_name):\n",
    "    '''INPUT: DataFrame or Series or List\n",
    "        RETURN: Dictionary of unique items and their frequency / count'''\n",
    "    \n",
    "    lst = [x.hour for x in df[column_name].values]\n",
    "    return freq_dict(lst)\n",
    "\n",
    "for station in popular_morning_stations.index[0:3]: #top three of top ten popular morning stations for starting a ride \n",
    "    # - - - get the 'nth' station group from the 'station_groups' group object\n",
    "    station_by_hour = station_groups.get_group(station)\n",
    "    \n",
    "    # - - - assign a dictionary as a super dictionary's value for the key of this station \n",
    "    station_time_hist[station] = series_freq_dict(station_by_hour, 'Start time')\n",
    "\n",
    "'''\n",
    "-------------------------------------------\n",
    "---- EXAMPLES OF NAMED VARIABLE OUTPUTS ---\n",
    "-------------------------------------------\n",
    "\n",
    "\n",
    "station_by_time.index[0]\n",
    "#>>>('10th & E St NW', datetime.time(0, 0, 1))\n",
    "\n",
    "station_by_time.index[0][1] #[station_name][datetime()]\n",
    "#>>> datetime.time(0, 0, 1)\n",
    "\n",
    "popular_morning_stations.index\n",
    ">>>Index(['Columbus Circle / Union Station', 'New Hampshire Ave & T St NW',\n",
    "       '16th & Harvard St NW', '14th & V St NW', '15th & P St NW',\n",
    "       '4th & M St SW', '13th & D St NE', '5th & K St NW',\n",
    "       'Lincoln Park / 13th & East Capitol St NE ', 'Thomas Circle'],\n",
    "        dtype='object')\n",
    "\n",
    "''';"
   ]
  },
  {
   "cell_type": "code",
   "execution_count": 15,
   "metadata": {},
   "outputs": [
    {
     "data": {
      "text/plain": [
       "{'Columbus Circle / Union Station': {0: 485,\n",
       "  1: 262,\n",
       "  5: 1591,\n",
       "  6: 6128,\n",
       "  7: 11520,\n",
       "  8: 14619,\n",
       "  9: 5447,\n",
       "  10: 2623,\n",
       "  11: 2957,\n",
       "  12: 3659,\n",
       "  13: 3686,\n",
       "  14: 3707,\n",
       "  15: 5173,\n",
       "  16: 8298,\n",
       "  17: 16003,\n",
       "  18: 12550,\n",
       "  19: 6304,\n",
       "  20: 3624,\n",
       "  21: 2652,\n",
       "  22: 1999,\n",
       "  23: 1109,\n",
       "  2: 117,\n",
       "  3: 47,\n",
       "  4: 38},\n",
       " 'New Hampshire Ave & T St NW': {5: 614,\n",
       "  6: 3569,\n",
       "  7: 6127,\n",
       "  8: 4350,\n",
       "  11: 3390,\n",
       "  12: 3404,\n",
       "  13: 3131,\n",
       "  14: 2757,\n",
       "  15: 2631,\n",
       "  16: 2978,\n",
       "  17: 4175,\n",
       "  18: 4971,\n",
       "  19: 4263,\n",
       "  20: 2747,\n",
       "  21: 1903,\n",
       "  22: 1423,\n",
       "  23: 1094,\n",
       "  0: 665,\n",
       "  10: 3294,\n",
       "  9: 3604,\n",
       "  3: 103,\n",
       "  1: 409,\n",
       "  2: 273,\n",
       "  4: 102},\n",
       " '16th & Harvard St NW': {5: 1024,\n",
       "  6: 1327,\n",
       "  7: 2866,\n",
       "  8: 6048,\n",
       "  12: 2214,\n",
       "  13: 1968,\n",
       "  14: 1821,\n",
       "  15: 2052,\n",
       "  17: 2406,\n",
       "  18: 2618,\n",
       "  19: 1983,\n",
       "  20: 1483,\n",
       "  21: 1154,\n",
       "  22: 756,\n",
       "  23: 439,\n",
       "  4: 222,\n",
       "  9: 2611,\n",
       "  10: 2578,\n",
       "  11: 2435,\n",
       "  16: 2029,\n",
       "  2: 122,\n",
       "  0: 308,\n",
       "  3: 81,\n",
       "  1: 151}}"
      ]
     },
     "execution_count": 15,
     "metadata": {},
     "output_type": "execute_result"
    }
   ],
   "source": [
    "station_time_hist"
   ]
  },
  {
   "cell_type": "code",
   "execution_count": 23,
   "metadata": {},
   "outputs": [
    {
     "data": {
      "image/png": "[encoded data removed]",
      "text/plain": [
       "<Figure size 720x360 with 1 Axes>"
      ]
     },
     "metadata": {
      "needs_background": "light"
     },
     "output_type": "display_data"
    }
   ],
   "source": [
    "d = station_time_hist[popular_morning_stations.index[0]]\n",
    "# - - - example:\n",
    "#plt.bar(myDictionary.keys(), myDictionary.values(), width, color='g')\n",
    "fig,ax = plt.subplots(figsize = (10,5))\n",
    "ax.bar(list(d.keys()), list(d.values()), width=0.8);"
   ]
  },
  {
   "cell_type": "code",
   "execution_count": null,
   "metadata": {},
   "outputs": [],
   "source": [
    "station_time_hist[station_of_interest]"
   ]
  },
  {
   "cell_type": "code",
   "execution_count": null,
   "metadata": {},
   "outputs": [],
   "source": [
    "s = station_time_hist[station_of_interest]"
   ]
  },
  {
   "cell_type": "code",
   "execution_count": null,
   "metadata": {},
   "outputs": [],
   "source": [
    "a"
   ]
  },
  {
   "cell_type": "code",
   "execution_count": null,
   "metadata": {},
   "outputs": [],
   "source": [
    "station_time_hist[station_of_interest]"
   ]
  },
  {
   "cell_type": "code",
   "execution_count": null,
   "metadata": {},
   "outputs": [],
   "source": [
    "key_value ={}     \n",
    "\n",
    "# Initializing the value  \n",
    "key_value[2] = 56       \n",
    "key_value[1] = 2 \n",
    "key_value[5] = 12 \n",
    "key_value[4] = 24\n",
    "key_value[6] = 18      \n",
    "key_value[3] = 323 \n",
    "key_value = sorted(key_value.items())\n",
    "key_value"
   ]
  },
  {
   "cell_type": "code",
   "execution_count": 5,
   "metadata": {},
   "outputs": [
    {
     "name": "stdout",
     "output_type": "stream",
     "text": [
      "its there\n"
     ]
    }
   ],
   "source": [
    "a = 44\n",
    "if a:\n",
    "    print('its there')"
   ]
  },
  {
   "cell_type": "code",
   "execution_count": null,
   "metadata": {},
   "outputs": [],
   "source": []
  }
 ],
 "metadata": {
  "kernelspec": {
   "display_name": "Python 3",
   "language": "python",
   "name": "python3"
  },
  "language_info": {
   "codemirror_mode": {
    "name": "ipython",
    "version": 3
   },
   "file_extension": ".py",
   "mimetype": "text/x-python",
   "name": "python",
   "nbconvert_exporter": "python",
   "pygments_lexer": "ipython3",
   "version": "3.7.4"
  }
 },
 "nbformat": 4,
 "nbformat_minor": 2
}
